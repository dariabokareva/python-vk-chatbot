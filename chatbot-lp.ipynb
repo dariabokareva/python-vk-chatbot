{
 "cells": [
  {
   "cell_type": "markdown",
   "metadata": {},
   "source": [
    "# Инструкция по разработке чат-бота Вконтакте\n",
    "#### Цель \n",
    "Разработать простого чат-бота для сообщества социальной сети Вконтакте средствами языка программирования Python и VK API, изучить документацию API ВКонтакте.\n",
    "\n",
    "Документация по API Вконтакте - https://vk.com/dev/first_guide\n",
    "\n",
    "#### Задачи\n",
    "1.\tНастроить IDE PyCharm.\n",
    "2.\tНастроить сообщество и получить API-ключ (токен).\n",
    "3.\tНастроить Long Poll соединение.\n",
    "4.\tОпределить команды, которые будет обрабатывать бот.\n",
    "5.\tДобавить клавиатуру для общения с ботом.\n",
    "\n",
    "#### Software stack\n",
    "* *IDE PyCharm*\n",
    "* *Python 3.6*\n",
    "* *vk-api*\n",
    "* *Long Poll API*\n",
    "\n",
    "\n",
    "Итоговый проект доступен в репозитории Github по ссылке https://github.com/dariabokareva/python-vk-chatbot. \n"
   ]
  },
  {
   "cell_type": "markdown",
   "metadata": {},
   "source": [
    "### 1.\tНастройка IDE PyCharm\n",
    "Для разработки чат-бота используется язык программирования **_Python 3.6_** и среда **_JetBrains PyCharm Community Edition 2019.1.3._** Проект поддерживается также версией Python 3.7.\n",
    "\n",
    "Скачать и установить Python необходимой версии можно по ссылке https://www.python.org/downloads/. \n",
    "\n",
    "IDE PyCharm Community Edition расположена по ссылке https://www.jetbrains.com/ru-ru/pycharm/download/.\n",
    "\n",
    "После установки Python и PyCharm необходимо запустить среду разработки и создать новый проект (File > Create Project)."
   ]
  },
  {
   "cell_type": "markdown",
   "metadata": {},
   "source": [
    "Для разработки бота потребуется установить дополнительные модули. Это можно сделать в настройках проекта (File > Settings > Project > Project Inetpreter > +). Необходимо найти модуль **_vk-api_** в списке пакетов и установить (Install Package)."
   ]
  },
  {
   "cell_type": "markdown",
   "metadata": {},
   "source": [
    "### 2.\tНастройка сообщества и получение API-ключа (токена)\n",
    "Для подключения бота к сообществу Вконтакте необходимо получить ключ доступа. Для этого необходимо перейти в свою группу Вконтакте или создать её. Затем в правом меню: Управление > Работа с API > Ключи доступа > Создать ключ. Боту необходимо дать разрешение на доступ к сообщениям.\n"
   ]
  },
  {
   "cell_type": "markdown",
   "metadata": {},
   "source": [
    "Далее необходимо перейти на вкладку Long Poll API и включить его (версия по умолчанию 5.50).\n",
    "Также на вкладке Управление > Настройки для бота, необходимо включить «Возможности ботов» и поставить галочку на пункте «Добавить кнопку “Начать”».\n",
    "Сообщество готово к подключению бота.\n"
   ]
  },
  {
   "cell_type": "markdown",
   "metadata": {},
   "source": [
    "### 3.\tНастройка Long Poll соединения\n",
    "Для написания кода необходимо создать в проекте Python File (файл с разрешением «.py»).\n",
    "\n",
    "Необходимо создать 3 файла: **config.py**, **server.py** и **server_manager.py**. Далее открываем файл **config.py**. В нём будет хранится токен. Создаём переменную *vk_api_token* и копируем в неё ключ (строку).\n"
   ]
  },
  {
   "cell_type": "code",
   "execution_count": 1,
   "metadata": {},
   "outputs": [],
   "source": [
    "vk_api_token = \"your token here\""
   ]
  },
  {
   "cell_type": "markdown",
   "metadata": {},
   "source": [
    "Открываем файл **server.py**. В этом файле будет код подключения и работы с Long poll API. Первым делом необходимо импортировать библиотеки, которые понадобятся для работы."
   ]
  },
  {
   "cell_type": "code",
   "execution_count": 7,
   "metadata": {},
   "outputs": [],
   "source": [
    "import vk_api\n",
    "import vk_api.vk_api\n",
    "import random\n",
    "from vk_api.longpoll import VkLongPoll\n",
    "from vk_api.longpoll import VkEventType"
   ]
  },
  {
   "cell_type": "markdown",
   "metadata": {},
   "source": [
    "Создаём класс *Server* c функцией __ init __()."
   ]
  },
  {
   "cell_type": "code",
   "execution_count": 5,
   "metadata": {},
   "outputs": [],
   "source": [
    "class Server:\n",
    "\n",
    "    def __init__(self, api_token, server_name: str = \"Empty\"):\n",
    "        self.server_name = server_name\n",
    "        # Для Long Poll\n",
    "        self.vk = vk_api.VkApi(token=api_token)\n",
    "\n",
    "        # Для использования Long Poll API\n",
    "        self.long_poll = VkLongPoll(self.vk)\n",
    "\n",
    "        # Для вызова методов vk_api\n",
    "        self.vk_api = self.vk.get_api()\n",
    "\n",
    "        self.users = {}"
   ]
  },
  {
   "cell_type": "markdown",
   "metadata": {},
   "source": [
    "Функции и методы в ЯП Python создаются с помощью ключевого слова «def»."
   ]
  },
  {
   "cell_type": "markdown",
   "metadata": {},
   "source": [
    "Функция __ init __ содержит следующие аргументы:\n",
    "\n",
    "* *self* – аналог «this» в других языках программирования. Self ссылается на экземпляр класса для которого вызывается метод. В методе __ init __ self ссылается на только что созданный объект. При вызове метода self не указывается, Python добавит его автоматически;\n",
    "* *api_token* – аргумент, в который передаётся ключ доступа.\n",
    "* *server_name* – аргумент, принимающий имя сервера, по умолчанию “Empty”\n",
    "\n",
    "В классе *Server* создадим также функцию send_message().\n"
   ]
  },
  {
   "cell_type": "code",
   "execution_count": 8,
   "metadata": {},
   "outputs": [],
   "source": [
    "def send_message(self, send_id, message, keyboard):\n",
    "    \"\"\"\n",
    "    Отправка сообщения через метод messages.send\n",
    "    :param send_id: vk id пользователя, который получит сообщение\n",
    "    :param message: содержимое отправляемого письма\n",
    "    :param keyboard: клавиатура для пользователя\n",
    "    :return: None\n",
    "    \"\"\"\n",
    "    return self.vk_api.messages.send(user_id=send_id,\n",
    "                                     message=message,\n",
    "                                     random_id=random.randint(0, 2048),\n",
    "                                     keyboard=keyboard)\n"
   ]
  },
  {
   "cell_type": "markdown",
   "metadata": {},
   "source": [
    "Данная функция возвращает сообщение, которое будет отправлено пользователю, при помощи метода vk_api.messages.send().\n",
    "Обязательные именованные аргументы метода messages.send():\n",
    "* *user_id* – принимает id пользователя, которому необходимо отправить сообщение;\n",
    "* *message* – содержимое сообщения;\n",
    "* *random_id* – идентификатор, позволяющий ограничивать повторную отправку сообщения пользователю. Необходимо генерировать рандомное число с помощью библиотеки random.\n",
    "\n",
    "Аргумент *keyboard* является необязательным, но будет необходим для отправки пользователю клавиатуры с командами.\n",
    "\n",
    "Создаём функцию start(), при вызове которой бот начнёт отслеживать сообщения через Long Poll и вызывать метод send_message() для отправки ответа пользователю.\n"
   ]
  },
  {
   "cell_type": "code",
   "execution_count": 11,
   "metadata": {},
   "outputs": [],
   "source": [
    "def start(self):\n",
    "    for event in self.long_poll.listen():  # Слушаем сервер\n",
    "        # Пришло новое сообщение\n",
    "        if event.type == VkEventType.MESSAGE_NEW and event.text:\n",
    "            user_id = event.user_id\n",
    "            kbd = open(\"keyboard.json\", \"r\", encoding=\"UTF-8\").read()\n",
    "            self.send_message(user_id, message_out, kbd)"
   ]
  },
  {
   "cell_type": "markdown",
   "metadata": {},
   "source": [
    "Во избежание ошибок при запуске промежуточной версии необходимо создать в папке проекта файл keyboard.json (это можно сделать по аналогии с созданием Python File или через проводник системы). Нужно прописать в нём следующий код:\n",
    "\n",
    "{\"buttons\":[],\"one_time\":true}"
   ]
  },
  {
   "cell_type": "markdown",
   "metadata": {},
   "source": [
    "Далее необходимо открыть файл **server_manager.py**, и прописать управление сервером. Для этого необходимо импортировать в него класс *Server* из файла **server.py** и переменную *vk_api_token* из **config.py**.\n",
    "Создаём переменную *server1* как объект класса Server и передаём необходимые параметры.\n"
   ]
  },
  {
   "cell_type": "markdown",
   "metadata": {},
   "source": [
    "При запуске файла **server_manager.py** (Главное меню > Run > Run…) бот начинает работать. "
   ]
  },
  {
   "cell_type": "markdown",
   "metadata": {},
   "source": [
    "### 4.\tОпределение команд, которые будет обрабатывать чат-бот\n",
    "Логика бота:\n",
    "\n",
    "«Слушаем» сервер Long Poll > получаем сообщение пользователя > Передаем сообщение в Commander.input() > Определяем команду > Возвращаем ответ > Передаем пользователю. Переходим к реализации.\n",
    "\n",
    "Для создания команд, которые сможет прочитать бот, необходимо создать файл **command_enum.py** и импортировать в него модуль **_enum_**, реализующий перечисления. Далее нужно создать класс *Command(Enum)*."
   ]
  },
  {
   "cell_type": "code",
   "execution_count": 12,
   "metadata": {},
   "outputs": [],
   "source": [
    "from enum import Enum\n",
    "\n",
    "\n",
    "class Command(Enum):\n",
    "    \"\"\"Класс, содержащий перечисление команд\"\"\"\n",
    "\n",
    "    \"\"\"Начать\"\"\"\n",
    "    start = [\"Начать\", \"начать\", \"start\", \"Start\"]"
   ]
  },
  {
   "cell_type": "markdown",
   "metadata": {},
   "source": [
    "По умолчанию у пользователя при первом сообщении на клавиатуре будет доступна кнопка «Начать» (это функционал Вконтакте), при её нажатии боту отправляется одноимённое сообщение. Поэтому добавим в класс комманду start, которая будет определяться при вводе пользователем любого сообщения, перечисленного в массиве.\n",
    "\n",
    "Здесь же создадим класс *Message(Enum)*, в котором будет содержаться перечисление сообщений, которые бот сможет отправлять в ответ."
   ]
  },
  {
   "cell_type": "code",
   "execution_count": 13,
   "metadata": {},
   "outputs": [],
   "source": [
    "class Message(Enum):\n",
    "    \"\"\"Класс, содержащий перечисление сообщений для каждой команды\"\"\"\n",
    "\n",
    "    start_msg = 'вот, что я могу подсказать:\\n\\n1&#8419; Информацию о мероприятии\\n2&#8419; Возраст участников\\n' \\\n",
    "                '3&#8419; Стоимость участия\\n4&#8419; Расписание\\n\\nВыбери интересующую тебя команду!'"
   ]
  },
  {
   "cell_type": "markdown",
   "metadata": {},
   "source": [
    "Наборы символов «1&#8419;» в строке – это коды смайлов Вконтакте, именно так бот сможет отправлять в ответ сообщения со смайлами (например, «&#128522;\t» - это смайлик «улыбка»).\n",
    "\n",
    "Теперь необходимо создать файл commander.py, который будет обрабатывать команды. Импортируем в него классы из command_enum. А также модуль re, который пригодится для более точной обработки текста.\n",
    "\n",
    "Создадим также класс *Commander* с функциями __ init __ (self) и input(self, msg).\n"
   ]
  },
  {
   "cell_type": "code",
   "execution_count": null,
   "metadata": {},
   "outputs": [],
   "source": [
    "from command_enum import Command, Message\n",
    "import re\n",
    "\n",
    "\n",
    "class Commander:\n",
    "\n",
    "    def __init__(self):\n",
    "\n",
    "        # Для запоминания последней команды\n",
    "        self.last_command = None\n",
    "\n",
    "        # Для запомминания ответов пользователя\n",
    "        self.last_ans = None\n",
    "\n",
    "    def input(self, msg):\n",
    "        \"\"\"\n",
    "        Функция принимающая сообщения пользователя\n",
    "        :param msg: Сообщение\n",
    "        :return: Ответ пользователю, отправившему сообщение\n",
    "        \"\"\"\n",
    "        # if msg in Command.start.value:\n",
    "        if re.search('начать', msg):\n",
    "            self.last_command = Command.start\n",
    "            return Message.start_msg.value\n",
    "        \n",
    "        return 'Я не знаю такой команды &#128532;'"
   ]
  },
  {
   "cell_type": "markdown",
   "metadata": {},
   "source": [
    "Функция input содержит аргумент msg, который принимает сообщение пользователя. \n",
    "\n",
    "Далее осуществляется проверка на соответствие сообщения команде Command.start.value.\n",
    "\n",
    "Её можно реализовать двумя способами (один из них закомментирован). Оптимально, в данном случае, использовать функцию re.search(). Она осуществляет поиск по заданному слову (“начать”, в сообщении пользователя msg). Если слово содержится в сообщении в любом виде, то команда определяется как start.\n",
    "\n",
    "Если использовать другой способ, необходимо прописывать все возможные варианты сообщения в команде start. Например, пользователь может написать «Начать.» или «начать:)», и, если их не будет в перечислении – бот не поймёт сообщение.\n",
    "И так, если мы определили команду, как start, присваиваем переменной self.last_command значение Command.start.value и возвращаем ответ пользователю (Message.start_msg.value).\n",
    "\n",
    "\n",
    "Если пользователь отправил нам иное сообщение, возвращаем сообщение о том, что бот незнаком с такой командой.\n",
    "Обработка команды готова, теперь необходимо отредактировать файл server.py.\n",
    "\n",
    "Перепишем функцию start() в соответствие с указанной раннее логикой бота."
   ]
  },
  {
   "cell_type": "code",
   "execution_count": null,
   "metadata": {},
   "outputs": [],
   "source": [
    "def start(self):\n",
    "    for event in self.long_poll.listen():  # Слушаем сервер\n",
    "        # Пришло новое сообщение\n",
    "        if event.type == VkEventType.MESSAGE_NEW and event.to_me and event.text:\n",
    "            if event.user_id not in self.users:\n",
    "                self.users[event.user_id] = Commander()\n",
    "\n",
    "            user_id = event.user_id\n",
    "            username = self.get_user_name(user_id)\n",
    "            message_out = self.users[event.user_id].input(event.text.lower())\n",
    "            kbd = open(\"keyboard.json\", \"r\", encoding=\"UTF-8\").read()\n",
    "\n",
    "            if message_out == Message.start_msg.value:\n",
    "                message_out = username + \", \" + Message.start_msg.value\n",
    "            self.send_message(user_id, message_out, kbd)"
   ]
  },
  {
   "cell_type": "markdown",
   "metadata": {},
   "source": [
    "В класс *Server* добавим функцию get_user_name(user_id), чтобы получить имя пользователя по id и обратиться к нему при отправке сообщения."
   ]
  },
  {
   "cell_type": "code",
   "execution_count": null,
   "metadata": {},
   "outputs": [],
   "source": [
    "def get_user_name(self, user_id):\n",
    "    \"\"\" Функция, возвращающая имя пользователя\"\"\"\n",
    "    user_name = self.vk_api.users.get(user_id=user_id)[0]['first_name']\n",
    "\n",
    "    return user_name"
   ]
  },
  {
   "cell_type": "markdown",
   "metadata": {},
   "source": [
    "### 5.\tДобавление клавиатуры пользователя\n",
    "Последний шаг – добавление клавиатуры пользователя. В коде уже прописана её реализация, осталось только отредактировать файл keyboard.json.\n",
    "\n",
    "Пример реализации кнопок на клавиатуре (код в keyboard.json):\n"
   ]
  },
  {
   "cell_type": "markdown",
   "metadata": {},
   "source": [
    "{\n",
    "  \"one_time\": false,\n",
    "  \"buttons\": [\n",
    "    [{\n",
    "      \"action\": {\n",
    "        \"type\": \"text\",\n",
    "        \"label\": \"&#128293; О мероприятии\",\n",
    "        \"payload\": \"{\\\"button\\\": \\\"1\\\"}\"\n",
    "      },\n",
    "      \"color\": \"positive\"\n",
    "    },\n",
    "      {\n",
    "        \"action\": {\n",
    "          \"type\": \"text\",\n",
    "          \"label\": \"&#128118; Возраст\",\n",
    "          \"payload\": \"{\\\"button\\\": \\\"1\\\"}\"\n",
    "        },\n",
    "        \"color\": \"positive\"\n",
    "      }],\n",
    "    [{\n",
    "        \"action\": {\n",
    "          \"type\": \"text\",\n",
    "          \"label\": \"&#128176; Цена\",\n",
    "          \"payload\": \"{\\\"button\\\": \\\"2\\\"}\"\n",
    "        },\n",
    "        \"color\": \"positive\"\n",
    "      },\n",
    "      {\n",
    "        \"action\": {\n",
    "          \"type\": \"text\",\n",
    "          \"label\": \"&#128197; Расписание\",\n",
    "          \"payload\": \"{\\\"button\\\": \\\"2\\\"}\"\n",
    "        },\n",
    "        \"color\": \"positive\"\n",
    "      }],\n",
    "    [{\n",
    "       \"action\": {\n",
    "          \"type\": \"text\",\n",
    "          \"label\": \"Хочу записаться&#128165;\\t\",\n",
    "          \"payload\": \"{\\\"button\\\": \\\"2\\\"}\"\n",
    "        },\n",
    "        \"color\": \"positive\"\n",
    "    }]\n",
    "  ]\n",
    "}\n",
    "\n"
   ]
  },
  {
   "cell_type": "markdown",
   "metadata": {},
   "source": [
    "Каждая команда, добавленная на клавиатуру, должна быть обработана в файлах **command_enum.py**, **commander.py**, **server.py** по аналогии с командой начать."
   ]
  },
  {
   "cell_type": "markdown",
   "metadata": {},
   "source": [
    "Теперь запустим файл **server_manager.py** и напишем в наше сообщество сообщение «Начать» (или нажнём на кнопку «Начать», которая была включена раннее)."
   ]
  },
  {
   "cell_type": "markdown",
   "metadata": {},
   "source": [
    "Чтобы чат-бот был всегда онлайн, его следует разместить на хостинге (например, https://www.pythonanywhere.com/)\n",
    "\n",
    "Исходный код проекта доступен в Github-репозитории https://github.com/dariabokareva/python-vk-chatbot.  \n"
   ]
  }
 ],
 "metadata": {
  "kernelspec": {
   "display_name": "Python 3",
   "language": "python",
   "name": "python3"
  },
  "language_info": {
   "codemirror_mode": {
    "name": "ipython",
    "version": 3
   },
   "file_extension": ".py",
   "mimetype": "text/x-python",
   "name": "python",
   "nbconvert_exporter": "python",
   "pygments_lexer": "ipython3",
   "version": "3.7.1"
  }
 },
 "nbformat": 4,
 "nbformat_minor": 2
}
